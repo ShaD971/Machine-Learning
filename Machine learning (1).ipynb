{
 "cells": [
  {
   "cell_type": "markdown",
   "id": "aa800ff4",
   "metadata": {},
   "source": [
    "# Import librairie et dataset"
   ]
  },
  {
   "cell_type": "code",
   "execution_count": 1,
   "id": "cf44c335",
   "metadata": {},
   "outputs": [],
   "source": [
    "import numpy as np\n",
    "import seaborn as sns\n",
    "import matplotlib.pyplot as plt\n",
    "import pandas as pd\n",
    "\n",
    "import tqdm\n",
    "\n",
    "from sklearn import datasets\n",
    "from sklearn.datasets import load_iris\n"
   ]
  },
  {
   "cell_type": "markdown",
   "id": "c9548650",
   "metadata": {},
   "source": [
    "## titanic dataset xls"
   ]
  },
  {
   "cell_type": "code",
   "execution_count": 2,
   "id": "494ab792",
   "metadata": {
    "scrolled": true
   },
   "outputs": [],
   "source": [
    "chemin = \"cours-et-data/cours-et-data/\"\n",
    "nom_fichier = \"titanic.xls\"\n",
    "df = pd.read_excel(chemin+nom_fichier)\n",
    "\n",
    "#Suppression des colonnes non désiré\n",
    "df = df.drop(['name','sibsp','parch','ticket','cabin','embarked','boat','body', 'home.dest'],axis='columns')\n",
    "\n",
    "#Transformation des valeurs du sexe en 1 et 0\n",
    "df[\"sex\"].replace(['male','female'], value=[0,1], inplace=True)\n",
    "\n",
    "#Suppression des valeurs null\n",
    "df.dropna(axis='index', inplace=True)"
   ]
  },
  {
   "cell_type": "markdown",
   "id": "5386114e",
   "metadata": {},
   "source": [
    "## Dataset sklearn titanic"
   ]
  },
  {
   "cell_type": "code",
   "execution_count": 3,
   "id": "3aa6aedc",
   "metadata": {},
   "outputs": [],
   "source": [
    "#Récupération du dataset de sklearn\n",
    "df = sns.load_dataset('titanic')\n",
    "\n",
    "#Suppression des colonnes non désiré\n",
    "df = df.drop(['sibsp','parch','embarked','class','who','adult_male','deck','embark_town','alone'],axis='columns')\n",
    "\n",
    "#Transformation des valeurs du sexe en 1 et 0\n",
    "df[\"sex\"].replace(['male','female'], value=[0,1], inplace=True)\n",
    "\n",
    "#Transformation des valeurs de survie en 1 et 0\n",
    "df[\"alive\"].replace(['no','yes'], value=[0,1], inplace=True)\n",
    "\n",
    "#Suppression des valeurs null\n",
    "df.dropna(axis='index', inplace=True)"
   ]
  },
  {
   "cell_type": "markdown",
   "id": "4c617b02",
   "metadata": {},
   "source": [
    "## iris dataset"
   ]
  },
  {
   "cell_type": "code",
   "execution_count": 4,
   "id": "5fa5a3e9",
   "metadata": {},
   "outputs": [],
   "source": [
    "#Récupération du dataset de sklearn\n",
    "iris_data = load_iris()\n",
    "\n",
    "#Création d'une dataframe à partir des données de la librairie\n",
    "iris_features = pd.DataFrame(data=iris_data.data, columns=iris_data.feature_names)\n",
    "\n",
    "#Copie du dataframe\n",
    "iris = iris_features\n",
    "\n",
    "#Création d'une colonne avec les valeurs du nom de la fleure\n",
    "iris['variety'] = pd.Categorical.from_codes(iris_data.target, iris_data.target_names)"
   ]
  },
  {
   "cell_type": "markdown",
   "id": "d42e8473",
   "metadata": {},
   "source": [
    "# Récuparation x et y, séparation du jeu de donnée à 70%"
   ]
  },
  {
   "cell_type": "code",
   "execution_count": 5,
   "id": "b8781b60",
   "metadata": {},
   "outputs": [],
   "source": [
    "#Association du y à la valeur survived\n",
    "y = df[\"survived\"]\n",
    "\n",
    "#Asssociation du X aux caractéristiques (features) de la personne\n",
    "X = df.drop('survived', axis=\"columns\")"
   ]
  },
  {
   "cell_type": "markdown",
   "id": "aa803ad9",
   "metadata": {},
   "source": [
    "# Choix du modèle de machine learning"
   ]
  },
  {
   "cell_type": "code",
   "execution_count": 6,
   "id": "78f2947f",
   "metadata": {},
   "outputs": [],
   "source": [
    "#Ici j'ai choisi perceptron mais on peut choisir d'autre modèle comme \"from sklearn.linear_model import LinearRegression\"\n",
    "from sklearn.linear_model import Perceptron\n",
    "model = Perceptron(eta0=0.1, random_state=0)"
   ]
  },
  {
   "cell_type": "code",
   "execution_count": 7,
   "id": "1dd36e1f",
   "metadata": {},
   "outputs": [
    {
     "data": {
      "text/plain": [
       "0.9901960784313726"
      ]
     },
     "execution_count": 7,
     "metadata": {},
     "output_type": "execute_result"
    }
   ],
   "source": [
    "#Entraînement du modèle\n",
    "classifieur = model.fit(X,y)\n",
    "\n",
    "#Évaluation du modèle\n",
    "model.score(X,y)"
   ]
  },
  {
   "cell_type": "markdown",
   "id": "a42877c7",
   "metadata": {},
   "source": [
    "# Plus loin"
   ]
  },
  {
   "cell_type": "markdown",
   "id": "c447526d",
   "metadata": {},
   "source": [
    "On peut choisir qu'elle partie on souhaite pour l'entrainement et le test."
   ]
  },
  {
   "cell_type": "code",
   "execution_count": 8,
   "id": "79431a68",
   "metadata": {
    "scrolled": true
   },
   "outputs": [
    {
     "name": "stdout",
     "output_type": "stream",
     "text": [
      "Bons résultats 212\n",
      "Erreurs: 3\n",
      "0.986046511627907\n"
     ]
    }
   ],
   "source": [
    "#On import la fonction train_test_split() du module model_selection de sklearn\n",
    "from sklearn.model_selection import train_test_split\n",
    "\n",
    "#L'argument test_size=0.3 défini qu'on prend 30% du dataset pour le test.\n",
    "X_train, X_test, y_train, y_test = train_test_split(X, y, test_size=0.3, random_state=0)\n",
    "\n",
    "#On récupère les résultats de la prédiction qui se trouve dans X_test\n",
    "y_pred = classifieur.predict(X_test)\n",
    "\n",
    "#\n",
    "good = (y_test == y_pred).sum()\n",
    "bad = (y_test != y_pred).sum()\n",
    "Resultat = good, \"\\n\", bad \n",
    "print('Bons résultats %d' % good)\n",
    "print('Erreurs: %d' % bad)\n",
    "print(good/(bad+good))"
   ]
  },
  {
   "cell_type": "markdown",
   "id": "efb992ec",
   "metadata": {},
   "source": [
    "#Ce code fonctionne si vous avez utilisé \"LinearRegression\"\n",
    "\n",
    "\n",
    "def willyousurvive(model, pclass,sex, age):\n",
    "    \"\"\"Ce code prend en entrée le model LinearRegression,\n",
    "    puis vous devez spécifier la classe que vous avez choisi,\n",
    "    votre sexe et votre age\n",
    "    Args :\n",
    "    pclass: classe allant de 1 à 3\n",
    "    sex : 0 pour homme et 1 pour femme\n",
    "    age : integer\n",
    "    \"\"\"\n",
    "    x = np.array([pclass, sex,age]).reshape(1,3)\n",
    "    return model.predict_proba(x)\n",
    "\n",
    "willyousurvive(model, 3, 0, 26)"
   ]
  },
  {
   "cell_type": "markdown",
   "id": "f2cce0a0",
   "metadata": {},
   "source": [
    "# Comparaison different model"
   ]
  },
  {
   "cell_type": "markdown",
   "id": "c52b0eab",
   "metadata": {},
   "source": [
    "Ce code va comparer les différents modèles pour les comparer par la suite"
   ]
  },
  {
   "cell_type": "code",
   "execution_count": 14,
   "id": "ad17cb1e",
   "metadata": {},
   "outputs": [
    {
     "name": "stderr",
     "output_type": "stream",
     "text": [
      "  0%|          | 0/11 [00:00<?, ?it/s]C:\\Users\\Loup\\anaconda3\\Lib\\site-packages\\sklearn\\svm\\_classes.py:32: FutureWarning: The default value of `dual` will change from `True` to `'auto'` in 1.5. Set the value of `dual` explicitly to suppress the warning.\n",
      "  warnings.warn(\n",
      "C:\\Users\\Loup\\anaconda3\\Lib\\site-packages\\sklearn\\svm\\_base.py:1242: ConvergenceWarning: Liblinear failed to converge, increase the number of iterations.\n",
      "  warnings.warn(\n",
      " 45%|████▌     | 5/11 [00:00<00:00, 45.83it/s]"
     ]
    },
    {
     "name": "stdout",
     "output_type": "stream",
     "text": [
      "---------------------------------------------------------------- \n",
      " LogisticRegression \n",
      "\n",
      "Bons résultats 215\n",
      "Erreurs: 0\n",
      "1.0\n",
      "---------------------------------------------------------------- \n",
      " RidgeClassifierCV \n",
      "\n",
      "Bons résultats 215\n",
      "Erreurs: 0\n",
      "1.0\n",
      "---------------------------------------------------------------- \n",
      " LinearRegression \n",
      "\n",
      "Bons résultats 1\n",
      "Erreurs: 214\n",
      "0.004651162790697674\n",
      "Erreur avec le classifieur LinearRegression: Classification metrics can't handle a mix of binary and continuous targets\n",
      "---------------------------------------------------------------- \n",
      " SVC \n",
      "\n",
      "Bons résultats 140\n",
      "Erreurs: 75\n",
      "0.6511627906976745\n",
      "---------------------------------------------------------------- \n",
      " LinearSVC \n",
      "\n",
      "Bons résultats 215\n",
      "Erreurs: 0\n",
      "1.0\n",
      "---------------------------------------------------------------- \n",
      " RandomForestClassifier \n",
      "\n"
     ]
    },
    {
     "name": "stderr",
     "output_type": "stream",
     "text": [
      "100%|██████████| 11/11 [00:00<00:00, 33.82it/s]"
     ]
    },
    {
     "name": "stdout",
     "output_type": "stream",
     "text": [
      "Bons résultats 215\n",
      "Erreurs: 0\n",
      "1.0\n",
      "---------------------------------------------------------------- \n",
      " GradientBoostingClassifier \n",
      "\n",
      "Bons résultats 215\n",
      "Erreurs: 0\n",
      "1.0\n",
      "---------------------------------------------------------------- \n",
      " KNeighborsClassifier \n",
      "\n",
      "Bons résultats 146\n",
      "Erreurs: 69\n",
      "0.6790697674418604\n",
      "---------------------------------------------------------------- \n",
      " GaussianNB \n",
      "\n",
      "Bons résultats 215\n",
      "Erreurs: 0\n",
      "1.0\n",
      "---------------------------------------------------------------- \n",
      " Perceptron \n",
      "\n",
      "Bons résultats 125\n",
      "Erreurs: 90\n",
      "0.5813953488372093\n",
      "---------------------------------------------------------------- \n",
      " DecisionTreeClassifier \n",
      "\n",
      "Bons résultats 215\n",
      "Erreurs: 0\n",
      "1.0\n"
     ]
    },
    {
     "name": "stderr",
     "output_type": "stream",
     "text": [
      "\n"
     ]
    }
   ],
   "source": [
    "from sklearn.linear_model import LogisticRegression, RidgeClassifierCV, LinearRegression\n",
    "from sklearn.svm import SVC, LinearSVC\n",
    "from sklearn.ensemble import RandomForestClassifier, GradientBoostingClassifier\n",
    "from sklearn.neighbors import KNeighborsClassifier\n",
    "from sklearn.naive_bayes import GaussianNB\n",
    "from sklearn.linear_model import Perceptron\n",
    "from sklearn.tree import DecisionTreeClassifier\n",
    "from sklearn.metrics import confusion_matrix, accuracy_score\n",
    "\n",
    "liste_classifieur = [\n",
    "    [\"LogisticRegression\", LogisticRegression(random_state=0)],\n",
    "    [\"RidgeClassifierCV\", RidgeClassifierCV()],\n",
    "    [\"LinearRegression\", LinearRegression()],\n",
    "    [\"SVC\", SVC(probability=True, random_state=0)],  # Ajout de probability=True pour obtenir les probabilités\n",
    "    [\"LinearSVC\", LinearSVC(random_state=0)],\n",
    "    [\"RandomForestClassifier\", RandomForestClassifier(random_state=0)],\n",
    "    [\"GradientBoostingClassifier\", GradientBoostingClassifier(random_state=0)],\n",
    "    [\"KNeighborsClassifier\", KNeighborsClassifier()],\n",
    "    [\"GaussianNB\", GaussianNB()],\n",
    "    [\"Perceptron\", Perceptron(eta0=0.1, random_state=0)],\n",
    "    [\"DecisionTreeClassifier\", DecisionTreeClassifier(random_state=0)]\n",
    "]\n",
    "\n",
    "#Entraînement du modèle\n",
    "classifieur = model.fit(X,y)\n",
    "\n",
    "#Évaluation du modèle\n",
    "model.score(X,y)\n",
    "\n",
    "#Création d'un dictionnaire pour enregistrer les résultats\n",
    "dictionnaire_evaluation = {}\n",
    "\n",
    "#Séparation du train et test à 70%\n",
    "X_train, X_test, y_train, y_test = train_test_split(X, y, test_size=0.3, random_state=0) \n",
    "\n",
    "#Pour chaque classifieur de ma liste\n",
    "for nom, classifieur in tqdm.tqdm(liste_classifieur):\n",
    "    print(\"---------------------------------------------------------------- \\n\",nom,\"\\n\")\n",
    "    try:\n",
    "        #j'entraine le jeu de donner sur le classifieur\n",
    "        classifieur.fit(X_train, y_train)\n",
    "\n",
    "        #Je sors ma prédiction\n",
    "        y_pred = classifieur.predict(X_test)\n",
    "\n",
    "        #Je vérifie les résultats\n",
    "        good = (y_test == y_pred).sum()\n",
    "        bad = (y_test != y_pred).sum()\n",
    "        Resultat = good, \"\\n\", bad \n",
    "        print('Bons résultats %d' % good)\n",
    "        print('Erreurs: %d' % bad)\n",
    "        print(good/(bad+good))\n",
    "\n",
    "        # Calculer les métriques\n",
    "        score = accuracy_score(y_test, y_pred)\n",
    "        tn, fp, fn, tp = confusion_matrix(y_test, y_pred).ravel()\n",
    "\n",
    "        # Enregistrer les résultats dans le dictionnaire\n",
    "        dictionnaire_evaluation[nom] = {\n",
    "            \"score\": float(score),\n",
    "            \"VP\": int(tp),\n",
    "            \"FP\": int(fp),\n",
    "            \"FN\": int(fn),\n",
    "            \"VN\": int(tn)\n",
    "        }\n",
    "    except Exception as e:\n",
    "        print(f\"Erreur avec le classifieur {nom}: {e}\")\n"
   ]
  },
  {
   "cell_type": "code",
   "execution_count": 15,
   "id": "c8198575",
   "metadata": {},
   "outputs": [
    {
     "name": "stdout",
     "output_type": "stream",
     "text": [
      "{'LogisticRegression': {'score': 1.0, 'VP': 90, 'FP': 0, 'FN': 0, 'VN': 125}, 'RidgeClassifierCV': {'score': 1.0, 'VP': 90, 'FP': 0, 'FN': 0, 'VN': 125}, 'SVC': {'score': 0.6511627906976745, 'VP': 30, 'FP': 15, 'FN': 60, 'VN': 110}, 'LinearSVC': {'score': 1.0, 'VP': 90, 'FP': 0, 'FN': 0, 'VN': 125}, 'RandomForestClassifier': {'score': 1.0, 'VP': 90, 'FP': 0, 'FN': 0, 'VN': 125}, 'GradientBoostingClassifier': {'score': 1.0, 'VP': 90, 'FP': 0, 'FN': 0, 'VN': 125}, 'KNeighborsClassifier': {'score': 0.6790697674418604, 'VP': 50, 'FP': 29, 'FN': 40, 'VN': 96}, 'GaussianNB': {'score': 1.0, 'VP': 90, 'FP': 0, 'FN': 0, 'VN': 125}, 'Perceptron': {'score': 0.5813953488372093, 'VP': 0, 'FP': 0, 'FN': 90, 'VN': 125}, 'DecisionTreeClassifier': {'score': 1.0, 'VP': 90, 'FP': 0, 'FN': 0, 'VN': 125}}\n"
     ]
    }
   ],
   "source": [
    "print(dictionnaire_evaluation)\n",
    "\n",
    "import json\n",
    "\n",
    "#Chemin du fichier JSON au même dossier que le code\n",
    "fichier_json = \"cours-et-data/cours-et-data/resultats_evaluation.json\"\n",
    "\n",
    "\n",
    "#On écrit dans le fichier JSON\n",
    "with open(fichier_json, 'w') as f:\n",
    "    json.dump(dictionnaire_evaluation, f, indent=4)"
   ]
  },
  {
   "cell_type": "code",
   "execution_count": 12,
   "id": "e6204a32",
   "metadata": {},
   "outputs": [
    {
     "name": "stdout",
     "output_type": "stream",
     "text": [
      "              precision    recall  f1-score   support\n",
      "\n",
      "           0       1.00      1.00      1.00       125\n",
      "           1       1.00      1.00      1.00        90\n",
      "\n",
      "    accuracy                           1.00       215\n",
      "   macro avg       1.00      1.00      1.00       215\n",
      "weighted avg       1.00      1.00      1.00       215\n",
      "\n",
      "              precision    recall  f1-score   support\n",
      "\n",
      "         vie     1.0000    1.0000    1.0000       125\n",
      "       meurt     1.0000    1.0000    1.0000        90\n",
      "\n",
      "    accuracy                         1.0000       215\n",
      "   macro avg     1.0000    1.0000    1.0000       215\n",
      "weighted avg     1.0000    1.0000    1.0000       215\n",
      "\n"
     ]
    }
   ],
   "source": [
    "from sklearn.metrics import classification_report\n",
    "\n",
    "report = classification_report(y_test, y_pred)\n",
    "print(report)\n",
    "\n",
    "##Comme nous savons que le 1 c'est les personnes qui vivent et le 0 les morts, on peut écrire ceci\n",
    "nom_classes = [\"vie\", \"meurt\"]\n",
    "report = classification_report(y_test, y_pred, target_names=nom_classes, digits=4)\n",
    "print(report)"
   ]
  },
  {
   "cell_type": "code",
   "execution_count": null,
   "id": "15024392",
   "metadata": {},
   "outputs": [],
   "source": []
  }
 ],
 "metadata": {
  "kernelspec": {
   "display_name": "Python 3 (ipykernel)",
   "language": "python",
   "name": "python3"
  },
  "language_info": {
   "codemirror_mode": {
    "name": "ipython",
    "version": 3
   },
   "file_extension": ".py",
   "mimetype": "text/x-python",
   "name": "python",
   "nbconvert_exporter": "python",
   "pygments_lexer": "ipython3",
   "version": "3.11.4"
  }
 },
 "nbformat": 4,
 "nbformat_minor": 5
}
